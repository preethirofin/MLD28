{
 "cells": [
  {
   "cell_type": "code",
   "execution_count": 5,
   "metadata": {},
   "outputs": [],
   "source": [
    "class inputs:\n",
    "    def __init__(self):\n",
    "        self.a=float(input('Enter first side:'))\n",
    "        self.b=float(input('Enter second side:'))\n",
    "        self.c=float(input('Enter third side:'))\n",
    "    \n",
    "    \n",
    "class area(inputs):\n",
    "     def __init__(self,*args):\n",
    "            super(area, self).__init__(*args)\n",
    "    \n",
    "     def calc_area(self):\n",
    "            s1=(self.a+self.b+self.c)\n",
    "            s=s1/2\n",
    "            area=float((s*((s-self.a)*(s-self.b)*(s-self.c))) ** 0.5)\n",
    "            return area"
   ]
  },
  {
   "cell_type": "code",
   "execution_count": 6,
   "metadata": {},
   "outputs": [
    {
     "name": "stdout",
     "output_type": "stream",
     "text": [
      "Enter first side:2\n",
      "Enter second side:3\n",
      "Enter third side:4\n",
      "2.9047375096555625\n"
     ]
    }
   ],
   "source": [
    "c=area()\n",
    "print( c.calc_area())"
   ]
  },
  {
   "cell_type": "code",
   "execution_count": 7,
   "metadata": {},
   "outputs": [],
   "source": [
    "def filter_long_words(words,n):\n",
    "    long_word=[]\n",
    "    for i in range(len(words)):\n",
    "        result=len(words[i])\n",
    "        if (result>n):\n",
    "            long_word.append(words[i])\n",
    "    return long_word"
   ]
  },
  {
   "cell_type": "code",
   "execution_count": 11,
   "metadata": {},
   "outputs": [
    {
     "data": {
      "text/plain": [
       "['abc', 'ergf', 'the']"
      ]
     },
     "execution_count": 11,
     "metadata": {},
     "output_type": "execute_result"
    }
   ],
   "source": [
    "words=['abc','de','ergf','tu','the']\n",
    "filter_long_words(words,2)"
   ]
  },
  {
   "cell_type": "code",
   "execution_count": 13,
   "metadata": {},
   "outputs": [],
   "source": [
    "def len_words(word):\n",
    "    length=[]\n",
    "    for i in range(len(word)):\n",
    "        length.append(len(word[i]))\n",
    "    return length"
   ]
  },
  {
   "cell_type": "code",
   "execution_count": 14,
   "metadata": {},
   "outputs": [
    {
     "data": {
      "text/plain": [
       "[3, 1, 4, 2, 3]"
      ]
     },
     "execution_count": 14,
     "metadata": {},
     "output_type": "execute_result"
    }
   ],
   "source": [
    "words=['abc','d','ergf','tu','the']\n",
    "len_words(words)\n"
   ]
  },
  {
   "cell_type": "code",
   "execution_count": 18,
   "metadata": {},
   "outputs": [],
   "source": [
    "def vowel_ide(s):\n",
    "    vow=['a','e','i','o','u']\n",
    "    value=False\n",
    "    for i in range (len(vow)):\n",
    "        if(s==vow[i]):\n",
    "            value=True\n",
    "            break\n",
    "    return value\n",
    "    \n",
    "    "
   ]
  },
  {
   "cell_type": "code",
   "execution_count": 20,
   "metadata": {},
   "outputs": [
    {
     "data": {
      "text/plain": [
       "False"
      ]
     },
     "execution_count": 20,
     "metadata": {},
     "output_type": "execute_result"
    }
   ],
   "source": [
    "s='b'\n",
    "vowel_ide(s)"
   ]
  },
  {
   "cell_type": "code",
   "execution_count": null,
   "metadata": {},
   "outputs": [],
   "source": []
  }
 ],
 "metadata": {
  "kernelspec": {
   "display_name": "Python 3",
   "language": "python",
   "name": "python3"
  },
  "language_info": {
   "codemirror_mode": {
    "name": "ipython",
    "version": 3
   },
   "file_extension": ".py",
   "mimetype": "text/x-python",
   "name": "python",
   "nbconvert_exporter": "python",
   "pygments_lexer": "ipython3",
   "version": "3.7.3"
  }
 },
 "nbformat": 4,
 "nbformat_minor": 2
}
